{
 "cells": [
  {
   "cell_type": "code",
   "execution_count": 4,
   "metadata": {},
   "outputs": [],
   "source": [
    "import pandas as pd\n",
    "from bs4 import BeautifulSoup as bs\n",
    "import requests\n",
    "from splinter import Browser\n",
    "import time\n",
    "\n",
    "csv = pd.read_csv('Pokemon.csv')"
   ]
  },
  {
   "cell_type": "code",
   "execution_count": 5,
   "metadata": {},
   "outputs": [
    {
     "data": {
      "text/plain": [
       "0                      Bulbasaur\n",
       "1                        Ivysaur\n",
       "2                       Venusaur\n",
       "3          VenusaurMega Venusaur\n",
       "4                     Charmander\n",
       "5                     Charmeleon\n",
       "6                      Charizard\n",
       "7      CharizardMega Charizard X\n",
       "8      CharizardMega Charizard Y\n",
       "9                       Squirtle\n",
       "10                     Wartortle\n",
       "11                     Blastoise\n",
       "12       BlastoiseMega Blastoise\n",
       "13                      Caterpie\n",
       "14                       Metapod\n",
       "15                    Butterfree\n",
       "16                        Weedle\n",
       "17                        Kakuna\n",
       "18                      Beedrill\n",
       "19         BeedrillMega Beedrill\n",
       "20                        Pidgey\n",
       "21                     Pidgeotto\n",
       "22                       Pidgeot\n",
       "23           PidgeotMega Pidgeot\n",
       "24                       Rattata\n",
       "25                      Raticate\n",
       "26                       Spearow\n",
       "27                        Fearow\n",
       "28                         Ekans\n",
       "29                         Arbok\n",
       "                 ...            \n",
       "770                      Sylveon\n",
       "771                     Hawlucha\n",
       "772                      Dedenne\n",
       "773                      Carbink\n",
       "774                        Goomy\n",
       "775                      Sliggoo\n",
       "776                       Goodra\n",
       "777                       Klefki\n",
       "778                     Phantump\n",
       "779                    Trevenant\n",
       "780        PumpkabooAverage Size\n",
       "781          PumpkabooSmall Size\n",
       "782          PumpkabooLarge Size\n",
       "783          PumpkabooSuper Size\n",
       "784        GourgeistAverage Size\n",
       "785          GourgeistSmall Size\n",
       "786          GourgeistLarge Size\n",
       "787          GourgeistSuper Size\n",
       "788                     Bergmite\n",
       "789                      Avalugg\n",
       "790                       Noibat\n",
       "791                      Noivern\n",
       "792                      Xerneas\n",
       "793                      Yveltal\n",
       "794             Zygarde50% Forme\n",
       "795                      Diancie\n",
       "796          DiancieMega Diancie\n",
       "797          HoopaHoopa Confined\n",
       "798           HoopaHoopa Unbound\n",
       "799                    Volcanion\n",
       "Name: Name, Length: 800, dtype: object"
      ]
     },
     "execution_count": 5,
     "metadata": {},
     "output_type": "execute_result"
    }
   ],
   "source": [
    "csv['Name']"
   ]
  },
  {
   "cell_type": "code",
   "execution_count": 6,
   "metadata": {},
   "outputs": [
    {
     "ename": "SyntaxError",
     "evalue": "'return' outside function (<ipython-input-6-0ff68efcf3ca>, line 23)",
     "output_type": "error",
     "traceback": [
      "\u001b[1;36m  File \u001b[1;32m\"<ipython-input-6-0ff68efcf3ca>\"\u001b[1;36m, line \u001b[1;32m23\u001b[0m\n\u001b[1;33m    return pokemon_image\u001b[0m\n\u001b[1;37m    ^\u001b[0m\n\u001b[1;31mSyntaxError\u001b[0m\u001b[1;31m:\u001b[0m 'return' outside function\n"
     ]
    }
   ],
   "source": [
    "#Latest Headline / Paragraph\n",
    "for pokemon in csv['Name']:\n",
    "    url = f'https://bulbapedia.bulbagarden.net/wiki/{pokemon}_(Pok%C3%A9mon)'\n",
    "\n",
    "    #Open browser\n",
    "    browser = Browser('chrome', headless=True)\n",
    "    browser.visit(url)\n",
    "\n",
    "    #Turn webpage into html\n",
    "    html = browser.html\n",
    "    soup = bs(html, 'lxml')\n",
    "\n",
    "    #Find the picture of the Pokemon and click on it until it's just the .png file\n",
    "    links_found = browser.find_link_by_partial_href(f'{pokemon}.png').click()\n",
    "    image = browser.find_by_id('file').click()\n",
    "    pokemon_url = browser.url\n",
    "\n",
    "    #Store it in a dictionary\n",
    "    pokemon_image = {'name': pokemon,\n",
    "                     'url': pokemon_url}\n",
    "    browser.quit()\n",
    "\n",
    "    return pokemon_image"
   ]
  },
  {
   "cell_type": "code",
   "execution_count": null,
   "metadata": {},
   "outputs": [],
   "source": []
  }
 ],
 "metadata": {
  "kernelspec": {
   "display_name": "Python 3",
   "language": "python",
   "name": "python3"
  },
  "language_info": {
   "codemirror_mode": {
    "name": "ipython",
    "version": 3
   },
   "file_extension": ".py",
   "mimetype": "text/x-python",
   "name": "python",
   "nbconvert_exporter": "python",
   "pygments_lexer": "ipython3",
   "version": "3.7.3"
  }
 },
 "nbformat": 4,
 "nbformat_minor": 2
}
